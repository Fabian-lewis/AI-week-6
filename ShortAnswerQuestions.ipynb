{
  "nbformat": 4,
  "nbformat_minor": 0,
  "metadata": {
    "colab": {
      "provenance": [],
      "authorship_tag": "ABX9TyPTgcxyeGHCVv59JC1qeoQH",
      "include_colab_link": true
    },
    "kernelspec": {
      "name": "python3",
      "display_name": "Python 3"
    },
    "language_info": {
      "name": "python"
    }
  },
  "cells": [
    {
      "cell_type": "markdown",
      "metadata": {
        "id": "view-in-github",
        "colab_type": "text"
      },
      "source": [
        "<a href=\"https://colab.research.google.com/github/Fabian-lewis/AI-week-6/blob/main/ShortAnswerQuestions.ipynb\" target=\"_parent\"><img src=\"https://colab.research.google.com/assets/colab-badge.svg\" alt=\"Open In Colab\"/></a>"
      ]
    },
    {
      "cell_type": "markdown",
      "source": [
        "###Q1: Explain how Edge AI reduces latency and enhances privacy compared to cloud-based AI. Provide a real-world example (e.g., autonomous drones).\n",
        "Edge AI refers to running AI algorithms locally on devices (the “edge”) rather than sending data to centralized cloud servers.\n",
        "\n",
        "1. Latency Reduction:\n",
        "\n",
        "  - Data processing happens on-device, eliminating delays caused by data transmission to/from the cloud.\n",
        "\n",
        "  Example: In autonomous drones, object detection and navigation decisions are made instantly on-board, ensuring fast reaction times.\n",
        "\n",
        "2. Enhanced Privacy:\n",
        "\n",
        "  - Sensitive data never leaves the device, minimizing exposure to interception or misuse.\n",
        "\n",
        "  Example: Smart home assistants that process voice commands locally prevent constant data streaming to cloud servers.\n",
        "\n",
        "###Q2: Compare Quantum AI and classical AI in solving optimization problems. What industries could benefit most from Quantum AI?\n",
        "- Classical AI uses conventional computing (binary logic) to solve optimization tasks via algorithms like gradient descent or genetic algorithms.\n",
        "\n",
        "- Quantum AI leverages quantum bits (qubits) and phenomena like superposition/entanglement to process multiple solutions simultaneously.\n",
        "\n",
        "  **Optimization Advantage:**\n",
        "\n",
        "    - Quantum AI can explore vast solution spaces exponentially faster, ideal for complex optimization problems like drug discovery or logistics routing.\n",
        "\n",
        "  **Industries that Benefit:**\n",
        "\n",
        "    - Pharmaceuticals — speeding up molecule interaction predictions.\n",
        "    - Finance — optimizing trading strategies and risk assessments.\n",
        "    - Supply Chain — enhancing routing and inventory optimization.\n",
        "\n",
        "###Q3: Discuss the societal impact of Human-AI collaboration in healthcare. How might it transform roles like radiologists or nurses?\n",
        "1. AI Augmentation of Healthcare Roles:\n",
        "\n",
        "  - Radiologists: AI assists in detecting anomalies in imaging (like tumors), reducing diagnostic errors and enabling early intervention.\n",
        "\n",
        "  - Nurses: AI-powered monitoring tools alert nurses to patient vitals anomalies, aiding quicker responses and reducing workload.\n",
        "\n",
        "2. Transformation Impact:\n",
        "\n",
        "  - Shifts healthcare roles from routine tasks to patient-centric care.\n",
        "\n",
        "  - Frees up human capacity for empathy, complex decision-making, and holistic patient care.\n",
        "\n",
        "3. Societal Effect:\n",
        "\n",
        "  - Improved healthcare accessibility and efficiency.\n",
        "\n",
        "  - Raises questions about job displacement and the need for reskilling.\n",
        "\n",
        "##Case Study Critique — Analyze: How does integrating AI with IoT improve urban sustainability? Identify two challenges (e.g., data security).\n",
        "1. Integration Benefits:\n",
        "\n",
        "  - AI analyzes real-time traffic data from IoT sensors (cameras, flow detectors) to optimize signal timings and reduce congestion.\n",
        "\n",
        "  - Enhances urban sustainability by lowering vehicle emissions, saving fuel, and improving commuter time efficiency.\n",
        "\n",
        "2. Two Challenges:\n",
        "\n",
        "  - Data Security: Sensor networks can be vulnerable to hacking or unauthorized access, risking manipulation of critical infrastructure.\n",
        "\n",
        "  - Data Privacy: Continuous monitoring of vehicular and pedestrian movement may infringe on citizen privacy if data governance is weak."
      ],
      "metadata": {
        "id": "sE_D--OQRXDY"
      }
    },
    {
      "cell_type": "code",
      "execution_count": null,
      "metadata": {
        "id": "v-dd5IXVRRsn"
      },
      "outputs": [],
      "source": []
    }
  ]
}